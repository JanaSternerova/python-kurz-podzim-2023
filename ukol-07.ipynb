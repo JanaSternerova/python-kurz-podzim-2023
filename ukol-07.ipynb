{
 "cells": [
  {
   "cell_type": "markdown",
   "metadata": {},
   "source": [
    "ukol-7: Adopce zvířat\n",
    "Úkol můžeš odevzdat buďto jako Jupyter Notebook .ipynb, nebo jako klasický program .py.\n",
    "\n",
    "Stáhni si dataset, který obsahuje seznam zvířat k adopci v ZOO Praha. Zdroj dat je Národní katalog otevřených dat.\n",
    "\n",
    "Data si načti pomocí metody pandas.read_csv(). Pozor, nastav oddělovač na znak středníku. Využij parametr sep.\n",
    "\n",
    "Seznam se s daty. Kolik má tabulka řádek a sloupců? Jak se sloupce jmenují?\n",
    "\n",
    "Které zvíře se nachází na záznamu s indexem 34? Vypiš název tohoto zvířete v češtině a v angličtině.\n",
    "\n",
    "Nepovinný bonus\n",
    "Využij metody sort_values() (a libovolných dalších metod), ke zjištění následujících informací:\n",
    "\n",
    "Adopce kterých zvířat je nejdražší?\n",
    "Které zvíře je alfabeticky poslední v češtině? Které v angličtině?\n",
    "Bonus můžeš doplnit o nějaké vlastní pozorování."
   ]
  },
  {
   "cell_type": "code",
   "execution_count": 21,
   "metadata": {},
   "outputs": [],
   "source": [
    "import pandas as pd"
   ]
  },
  {
   "cell_type": "code",
   "execution_count": 22,
   "metadata": {},
   "outputs": [
    {
     "name": "stdout",
     "output_type": "stream",
     "text": [
      "       id             nazev_cz                     nazev_en       trida_cz  \\\n",
      "0       7          Šváb syčivý  Madagascar giant cockroach      Bezobratlí   \n",
      "1       8  Pakobylka okřídlená     Pink-winged stick insect     Bezobratlí   \n",
      "2      16                Tayra                        Tayra          Savci   \n",
      "3      35        Kajmanka supí    Alligator snapping turtle          Plazi   \n",
      "4      37      Želva žlutočelá       Indochinese box turtle          Plazi   \n",
      "..    ...                  ...                          ...            ...   \n",
      "508  1417  Rosnice šalamounská                               Obojživelníci   \n",
      "509  1418       Létavka obecná                               Obojživelníci   \n",
      "510  1419          Bažant paví                                       Ptáci   \n",
      "511  1420  Sojkovec rezavouchý                                       Ptáci   \n",
      "512  1421   Kachnice kaštanová                                       Ptáci   \n",
      "\n",
      "     cena  k_prohlidce  \n",
      "0    1000            1  \n",
      "1    1000            1  \n",
      "2    5000            1  \n",
      "3    2000            1  \n",
      "4    1000            1  \n",
      "..    ...          ...  \n",
      "508  1000            1  \n",
      "509  1000            1  \n",
      "510  1000            1  \n",
      "511  1000            1  \n",
      "512  1000            1  \n",
      "\n",
      "[513 rows x 6 columns]\n"
     ]
    }
   ],
   "source": [
    "zoo = pd.read_csv(\"adopce-zvirat.csv\", sep=\";\")\n",
    "\n",
    "print (zoo)"
   ]
  },
  {
   "cell_type": "code",
   "execution_count": 23,
   "metadata": {},
   "outputs": [
    {
     "data": {
      "text/plain": [
       "(513, 6)"
      ]
     },
     "execution_count": 23,
     "metadata": {},
     "output_type": "execute_result"
    }
   ],
   "source": [
    "zoo.shape\n"
   ]
  },
  {
   "cell_type": "code",
   "execution_count": 24,
   "metadata": {},
   "outputs": [
    {
     "data": {
      "text/plain": [
       "Index(['id', 'nazev_cz', 'nazev_en', 'trida_cz', 'cena', 'k_prohlidce'], dtype='object')"
      ]
     },
     "execution_count": 24,
     "metadata": {},
     "output_type": "execute_result"
    }
   ],
   "source": [
    "zoo.columns"
   ]
  },
  {
   "cell_type": "code",
   "execution_count": 25,
   "metadata": {},
   "outputs": [
    {
     "data": {
      "text/plain": [
       "id                     99\n",
       "nazev_cz        Ibis bílý\n",
       "nazev_en       White ibis\n",
       "trida_cz            Ptáci\n",
       "cena                 3000\n",
       "k_prohlidce             1\n",
       "Name: 34, dtype: object"
      ]
     },
     "execution_count": 25,
     "metadata": {},
     "output_type": "execute_result"
    }
   ],
   "source": [
    "zoo.iloc[34]"
   ]
  },
  {
   "cell_type": "code",
   "execution_count": 26,
   "metadata": {},
   "outputs": [
    {
     "data": {
      "text/plain": [
       "nazev_cz     Ibis bílý\n",
       "nazev_en    White ibis\n",
       "Name: 34, dtype: object"
      ]
     },
     "execution_count": 26,
     "metadata": {},
     "output_type": "execute_result"
    }
   ],
   "source": [
    "zoo.iloc[34,1:3]"
   ]
  },
  {
   "cell_type": "code",
   "execution_count": 27,
   "metadata": {},
   "outputs": [
    {
     "data": {
      "text/plain": [
       "id                         335\n",
       "nazev_cz       Tygr sumaterský\n",
       "nazev_en        Sumatran tiger\n",
       "trida_cz                 Savci\n",
       "cena                     50000\n",
       "k_prohlidce                  1\n",
       "Name: 114, dtype: object"
      ]
     },
     "execution_count": 27,
     "metadata": {},
     "output_type": "execute_result"
    }
   ],
   "source": [
    "zoo.sort_values(by=\"cena\", ascending=False).iloc[0]\n"
   ]
  },
  {
   "cell_type": "code",
   "execution_count": 28,
   "metadata": {},
   "outputs": [
    {
     "data": {
      "text/plain": [
       "id                               1190\n",
       "nazev_cz                  Žluva hajní\n",
       "nazev_en       Eurasian golden oriole\n",
       "trida_cz                        Ptáci\n",
       "cena                             1000\n",
       "k_prohlidce                         1\n",
       "Name: 371, dtype: object"
      ]
     },
     "execution_count": 28,
     "metadata": {},
     "output_type": "execute_result"
    }
   ],
   "source": [
    "zoo.sort_values(by=\"nazev_cz\").iloc[-1]"
   ]
  },
  {
   "cell_type": "code",
   "execution_count": 29,
   "metadata": {},
   "outputs": [
    {
     "data": {
      "text/plain": [
       "id                                 491\n",
       "nazev_cz           Frankolín žlutokrký\n",
       "nazev_en       Yellow-necked francolin\n",
       "trida_cz                         Ptáci\n",
       "cena                              1000\n",
       "k_prohlidce                          1\n",
       "Name: 161, dtype: object"
      ]
     },
     "execution_count": 29,
     "metadata": {},
     "output_type": "execute_result"
    }
   ],
   "source": [
    "zoo.sort_values(by=\"nazev_en\").iloc[-1]"
   ]
  }
 ],
 "metadata": {
  "kernelspec": {
   "display_name": "Python 3",
   "language": "python",
   "name": "python3"
  },
  "language_info": {
   "codemirror_mode": {
    "name": "ipython",
    "version": 3
   },
   "file_extension": ".py",
   "mimetype": "text/x-python",
   "name": "python",
   "nbconvert_exporter": "python",
   "pygments_lexer": "ipython3",
   "version": "3.9.10"
  }
 },
 "nbformat": 4,
 "nbformat_minor": 2
}
